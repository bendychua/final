{
 "cells": [
  {
   "cell_type": "markdown",
   "metadata": {},
   "source": [
    "# Duckietown NCTU - Tutorial 5: Duckietown-Description\n",
    "By Brian Chuang, Kenny Su, and Nick Wang\n",
    "\n",
    "Open another terminal to roslaunch a duckietown description, e.g., $ roslaunch duckietown_description duckietown_description_node.launch veh:=wama map_name:=open_house_dp6"
   ]
  },
  {
   "cell_type": "markdown",
   "metadata": {},
   "source": [
    "## Import Packages"
   ]
  },
  {
   "cell_type": "code",
   "execution_count": 1,
   "metadata": {
    "collapsed": false
   },
   "outputs": [],
   "source": [
    "import numpy as np\n",
    "import scipy as sp\n",
    "import cv2\n",
    "import time\n",
    "\n",
    "from matplotlib import pyplot as plt\n",
    "%matplotlib inline\n",
    "# set display defaults\n",
    "plt.rcParams['figure.figsize'] = (10, 10)        # large images\n",
    "plt.rcParams['image.interpolation'] = 'nearest'  # don't interpolate: show square pixels"
   ]
  },
  {
   "cell_type": "markdown",
   "metadata": {},
   "source": [
    "## ROS Setup"
   ]
  },
  {
   "cell_type": "code",
   "execution_count": 2,
   "metadata": {
    "collapsed": false
   },
   "outputs": [],
   "source": [
    "import sys\n",
    "# rospy\n",
    "sys.path.insert(0, '/opt/ros/indigo/lib/python2.7/dist-packages')\n",
    "# rospkg\n",
    "sys.path.insert(0, '/usr/lib/python2.7/dist-packages/')\n",
    "\n",
    "# duckietown_msgs\n",
    "duckietown_root = '../../'  # this file should be run from {duckietown_root}/turorials/python (otherwise change this line)\n",
    "sys.path.insert(0, duckietown_root + 'catkin_ws/devel/lib/python2.7/dist-packages')\n",
    "import roscpp\n",
    "import rospy\n",
    "import tf2_ros\n",
    "import PyKDL\n",
    "import math\n",
    "import tf\n",
    "#from geometry_msgs.msg import Point, Quaternion,Transform\n",
    "from geometry_msgs.msg import TransformStamped\n",
    "from tf_conversions import posemath"
   ]
  },
  {
   "cell_type": "markdown",
   "metadata": {},
   "source": [
    "## Initial a Ros Node"
   ]
  },
  {
   "cell_type": "code",
   "execution_count": 3,
   "metadata": {
    "collapsed": false
   },
   "outputs": [],
   "source": [
    "rospy.init_node(\"state_duckiebot_publisher\",anonymous=False)"
   ]
  },
  {
   "cell_type": "markdown",
   "metadata": {},
   "source": [
    "## Define Duckiebot Transformation Publisher"
   ]
  },
  {
   "cell_type": "code",
   "execution_count": 4,
   "metadata": {
    "collapsed": false
   },
   "outputs": [],
   "source": [
    "trans_pub = tf2_ros.TransformBroadcaster()\n",
    "trans_msg = TransformStamped()\n",
    "\n",
    "def state_duckiebot_publish(transformation, head_id, child_id):\n",
    "    \n",
    "    xyz = tf.transformations.translation_from_matrix(transformation)\n",
    "    quat = tf.transformations.quaternion_from_matrix(transformation)\n",
    "    trans_msg.header.frame_id = head_id\n",
    "    trans_msg.child_frame_id = child_id\n",
    "    trans_msg.transform.translation.x = xyz[0]\n",
    "    trans_msg.transform.translation.y = xyz[1]\n",
    "    trans_msg.transform.translation.z = xyz[2]\n",
    "    trans_msg.transform.rotation.x = quat[0]\n",
    "    trans_msg.transform.rotation.y = quat[1]\n",
    "    trans_msg.transform.rotation.z = quat[2]\n",
    "    trans_msg.transform.rotation.w = quat[3]\n",
    "    trans_pub.sendTransform(trans_msg) \n",
    "    "
   ]
  },
  {
   "cell_type": "markdown",
   "metadata": {},
   "source": [
    "## Translation, Rotation, Transformation example"
   ]
  },
  {
   "cell_type": "markdown",
   "metadata": {},
   "source": [
    "* example 1: translation "
   ]
  },
  {
   "cell_type": "code",
   "execution_count": 5,
   "metadata": {
    "collapsed": false
   },
   "outputs": [
    {
     "name": "stdout",
     "output_type": "stream",
     "text": [
      "translation: \n",
      "[[ 1.  0.  0.  1.]\n",
      " [ 0.  1.  0.  0.]\n",
      " [ 0.  0.  1.  0.]\n",
      " [ 0.  0.  0.  1.]]\n",
      "extract xyz from translation: \n",
      "[ 1.  0.  0.]\n"
     ]
    }
   ],
   "source": [
    "xyz = (1,0,0)\n",
    "\n",
    "translation = tf.transformations.translation_matrix((xyz))\n",
    "print 'translation: \\n', translation\n",
    "\n",
    "xyz_ = tf.transformations.translation_from_matrix(translation)\n",
    "print 'extract xyz from translation: \\n', xyz_\n",
    "\n",
    "state_duckiebot_publish(translation, 'world', 'duckiebot')"
   ]
  },
  {
   "cell_type": "markdown",
   "metadata": {},
   "source": [
    "* example 2: rotation by rpy"
   ]
  },
  {
   "cell_type": "code",
   "execution_count": 6,
   "metadata": {
    "collapsed": false
   },
   "outputs": [
    {
     "name": "stdout",
     "output_type": "stream",
     "text": [
      "rotation by rpy: \n",
      "[[ -1.00000000e+00  -1.22464680e-16  -0.00000000e+00   0.00000000e+00]\n",
      " [  1.22464680e-16  -1.00000000e+00   0.00000000e+00   0.00000000e+00]\n",
      " [ -0.00000000e+00   0.00000000e+00   1.00000000e+00   0.00000000e+00]\n",
      " [  0.00000000e+00   0.00000000e+00   0.00000000e+00   1.00000000e+00]]\n",
      "extract rpy from rotation: \n",
      "(0.0, 0.0, 3.141592653589793)\n"
     ]
    }
   ],
   "source": [
    "rpy = (0,0,math.pi)\n",
    "\n",
    "rotation_rpy = tf.transformations.euler_matrix(rpy[0], rpy[1], rpy[2], 'rxyz')\n",
    "print 'rotation by rpy: \\n', rotation_rpy\n",
    "\n",
    "rpy_ = tf.transformations.euler_from_matrix(rotation_rpy)\n",
    "print 'extract rpy from rotation: \\n', rpy_\n",
    "\n",
    "state_duckiebot_publish(rotation_rpy, 'world', 'duckiebot')"
   ]
  },
  {
   "cell_type": "markdown",
   "metadata": {},
   "source": [
    "* example 3: rotation by quaternion"
   ]
  },
  {
   "cell_type": "code",
   "execution_count": 7,
   "metadata": {
    "collapsed": false
   },
   "outputs": [
    {
     "name": "stdout",
     "output_type": "stream",
     "text": [
      "rotation by quat: \n",
      "[[ 0. -1.  0.  0.]\n",
      " [ 1.  0.  0.  0.]\n",
      " [ 0.  0.  1.  0.]\n",
      " [ 0.  0.  0.  1.]]\n",
      "extract quaternion from rotation: \n",
      "[ 0.          0.          0.70710678  0.70710678]\n",
      "convert quaternion:  [ 0.          0.          0.70710678  0.70710678] \n",
      " to rpy: (0.0, -0.0, 1.5707963267948966)\n"
     ]
    }
   ],
   "source": [
    "quat = (0, 0, 1, 1)\n",
    "\n",
    "rotation_quat = tf.transformations.quaternion_matrix(quat)\n",
    "print 'rotation by quat: \\n', rotation_quat\n",
    "\n",
    "quat_ = tf.transformations.quaternion_from_matrix(rotation_quat)\n",
    "print 'extract quaternion from rotation: \\n', quat_\n",
    "\n",
    "rpy_quat = tf.transformations.euler_from_quaternion(quat_)\n",
    "print 'convert quaternion: ', quat_, '\\n to rpy:', rpy_quat\n",
    "\n",
    "state_duckiebot_publish(rotation_quat, 'world', 'duckiebot')"
   ]
  },
  {
   "cell_type": "markdown",
   "metadata": {},
   "source": [
    "* example 4: combine translation and rotation"
   ]
  },
  {
   "cell_type": "code",
   "execution_count": 8,
   "metadata": {
    "collapsed": false,
    "scrolled": true
   },
   "outputs": [
    {
     "name": "stdout",
     "output_type": "stream",
     "text": [
      "translation: \n",
      "[[ 1.   0.   0.   0.6]\n",
      " [ 0.   1.   0.   0. ]\n",
      " [ 0.   0.   1.   0. ]\n",
      " [ 0.   0.   0.   1. ]]\n",
      "rotation: \n",
      "[[ -1.00000000e+00  -1.22464680e-16  -0.00000000e+00   0.00000000e+00]\n",
      " [  1.22464680e-16  -1.00000000e+00   0.00000000e+00   0.00000000e+00]\n",
      " [ -0.00000000e+00   0.00000000e+00   1.00000000e+00   0.00000000e+00]\n",
      " [  0.00000000e+00   0.00000000e+00   0.00000000e+00   1.00000000e+00]]\n",
      "combine translation and rotation: \n",
      "[[ -1.00000000e+00  -1.22464680e-16   0.00000000e+00   6.00000000e-01]\n",
      " [  1.22464680e-16  -1.00000000e+00   0.00000000e+00   0.00000000e+00]\n",
      " [  0.00000000e+00   0.00000000e+00   1.00000000e+00   0.00000000e+00]\n",
      " [  0.00000000e+00   0.00000000e+00   0.00000000e+00   1.00000000e+00]]\n"
     ]
    }
   ],
   "source": [
    "xyz = (0.6,0,0)\n",
    "translation = tf.transformations.translation_matrix((xyz))\n",
    "print 'translation: \\n', translation\n",
    "\n",
    "rpy = (0,0,math.pi)\n",
    "rotation = tf.transformations.euler_matrix(rpy[0], rpy[1], rpy[2], 'rxyz')\n",
    "print 'rotation: \\n', rotation\n",
    "\n",
    "T = translation.dot(rotation)\n",
    "print 'combine translation and rotation: \\n', T\n",
    "state_duckiebot_publish(T, 'world', 'duckiebot')"
   ]
  },
  {
   "cell_type": "markdown",
   "metadata": {},
   "source": [
    "* define function of geting combination translation and rotation"
   ]
  },
  {
   "cell_type": "code",
   "execution_count": 9,
   "metadata": {
    "collapsed": false,
    "scrolled": true
   },
   "outputs": [],
   "source": [
    "def get_trans_from_xyz_rpy(xyz, rpy):\n",
    "    translation = tf.transformations.translation_matrix((xyz))\n",
    "    rotation = tf.transformations.euler_matrix(rpy[0], rpy[1], rpy[2], 'rxyz')\n",
    "    T = np.matmul(translation, rotation)\n",
    "    return T"
   ]
  },
  {
   "cell_type": "markdown",
   "metadata": {},
   "source": [
    "* example 5: composition - repeat the transformation in example 4 four times "
   ]
  },
  {
   "cell_type": "code",
   "execution_count": 11,
   "metadata": {
    "collapsed": false
   },
   "outputs": [
    {
     "name": "stdout",
     "output_type": "stream",
     "text": [
      "transformation times:  1\n",
      "[[ 0.70710678 -0.70710678  0.          0.6       ]\n",
      " [ 0.70710678  0.70710678  0.          0.        ]\n",
      " [ 0.          0.          1.          0.        ]\n",
      " [ 0.          0.          0.          1.        ]]\n",
      "transformation times:  2\n",
      "[[  2.22044605e-16  -1.00000000e+00   0.00000000e+00   1.02426407e+00]\n",
      " [  1.00000000e+00   2.22044605e-16   0.00000000e+00   4.24264069e-01]\n",
      " [  0.00000000e+00   0.00000000e+00   1.00000000e+00   0.00000000e+00]\n",
      " [  0.00000000e+00   0.00000000e+00   0.00000000e+00   1.00000000e+00]]\n",
      "transformation times:  3\n",
      "[[-0.70710678 -0.70710678  0.          1.02426407]\n",
      " [ 0.70710678 -0.70710678  0.          1.02426407]\n",
      " [ 0.          0.          1.          0.        ]\n",
      " [ 0.          0.          0.          1.        ]]\n",
      "transformation times:  4\n",
      "[[ -1.00000000e+00  -2.77555756e-16   0.00000000e+00   6.00000000e-01]\n",
      " [  2.77555756e-16  -1.00000000e+00   0.00000000e+00   1.44852814e+00]\n",
      " [  0.00000000e+00   0.00000000e+00   1.00000000e+00   0.00000000e+00]\n",
      " [  0.00000000e+00   0.00000000e+00   0.00000000e+00   1.00000000e+00]]\n"
     ]
    }
   ],
   "source": [
    "xyz = (0.6, 0, 0)\n",
    "rpy = (0, 0, math.pi / 4)\n",
    "T = get_trans_from_xyz_rpy(xyz, rpy)\n",
    "T_ = T\n",
    "for i in range(4):\n",
    "    print 'transformation times: ', i+1\n",
    "    state_duckiebot_publish(T_, 'world', 'duckiebot')\n",
    "    rospy.sleep(3)\n",
    "    print T_\n",
    "    T_ = np.matmul(T_, T)\n",
    "    "
   ]
  },
  {
   "cell_type": "code",
   "execution_count": null,
   "metadata": {
    "collapsed": true
   },
   "outputs": [],
   "source": []
  }
 ],
 "metadata": {
  "anaconda-cloud": {},
  "kernelspec": {
   "display_name": "Python [default]",
   "language": "python",
   "name": "python2"
  },
  "language_info": {
   "codemirror_mode": {
    "name": "ipython",
    "version": 2
   },
   "file_extension": ".py",
   "mimetype": "text/x-python",
   "name": "python",
   "nbconvert_exporter": "python",
   "pygments_lexer": "ipython2",
   "version": "2.7.12"
  }
 },
 "nbformat": 4,
 "nbformat_minor": 1
}
