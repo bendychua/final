{
 "cells": [
  {
   "cell_type": "markdown",
   "metadata": {},
   "source": [
    "# Duckietown Lane Filter2"
   ]
  },
  {
   "cell_type": "markdown",
   "metadata": {},
   "source": [
    "up/down arrow keys to move, enter to edit\n",
    "\n",
    "Esc to exit edit mode\n",
    "\n",
    "Shift + enter to run code\n",
    "\n",
    "1/2/3... to add comment\n",
    "\n",
    "dd to delete cell\n",
    "\n",
    "press h for more shortcuts"
   ]
  },
  {
   "cell_type": "code",
   "execution_count": null,
   "metadata": {
    "collapsed": true
   },
   "outputs": [],
   "source": [
    "import numpy as np\n",
    "from scipy.stats import multivariate_normal, entropy\n",
    "from scipy.ndimage.filters import gaussian_filter\n",
    "from math import floor, atan2, pi, cos, sin, sqrt\n",
    "import time\n",
    "from matplotlib import pyplot as plt\n",
    "%matplotlib inline"
   ]
  },
  {
   "cell_type": "markdown",
   "metadata": {},
   "source": [
    "## Environment Setup"
   ]
  },
  {
   "cell_type": "code",
   "execution_count": null,
   "metadata": {
    "collapsed": true
   },
   "outputs": [],
   "source": [
    "# constant\n",
    "WHITE = 0\n",
    "YELLOW = 1\n",
    "RED = 2\n",
    "\n",
    "lanewidth = 0.4\n",
    "linewidth_white = 0.04\n",
    "linewidth_yellow = 0.02\n"
   ]
  },
  {
   "cell_type": "markdown",
   "metadata": {},
   "source": [
    "## Generate Vote"
   ]
  },
  {
   "cell_type": "markdown",
   "metadata": {},
   "source": [
    "### ground projection"
   ]
  },
  {
   "cell_type": "code",
   "execution_count": null,
   "metadata": {
    "collapsed": false
   },
   "outputs": [],
   "source": [
    "import cv2\n",
    "img = cv2.imread(\"images/curve-right.jpg\")\n",
    "\n",
    "dst1 = cv2.cvtColor(img,cv2.COLOR_BGR2RGB)\n",
    "plt.subplot(111),plt.imshow(dst1,cmap = 'brg')\n",
    "plt.title('Original Image'), plt.xticks([]), plt.yticks([])\n"
   ]
  },
  {
   "cell_type": "code",
   "execution_count": null,
   "metadata": {
    "collapsed": true
   },
   "outputs": [],
   "source": [
    "# default homography, you should replace this by your extrinsic\n",
    "H = np.array(\n",
    "    [[-4.89775e-05, -0.0002150858, -0.1818273], \n",
    "     [0.00099274, 1.202336e-06, -0.3280241],\n",
    "     [-0.0004281805, -0.007185673, 1]])"
   ]
  },
  {
   "cell_type": "code",
   "execution_count": null,
   "metadata": {
    "collapsed": true
   },
   "outputs": [],
   "source": [
    "# normalized x, y on image plane\n",
    "img_pt_u = 0.2 # from left\n",
    "img_pt_v = 0.5 # from top\n"
   ]
  },
  {
   "cell_type": "code",
   "execution_count": null,
   "metadata": {
    "collapsed": false
   },
   "outputs": [],
   "source": [
    "print H\n",
    "x_img = np.array([ img_pt_u *640, img_pt_v *480, 1])\n",
    "print x_img\n",
    "\n",
    "x_gnd = np.dot(H, x_img)\n",
    "print x_gnd\n",
    "\n",
    "x_gnd /= x_gnd[2]\n",
    "print 'front: ', x_gnd[0]\n",
    "print 'd\\t', x_gnd[1]"
   ]
  },
  {
   "cell_type": "markdown",
   "metadata": {},
   "source": [
    "#### Setup a line segment\n",
    "* left edge of white lane\n",
    "* right edge of white lane\n",
    "* left edge of yellow lane\n",
    "* right edge of white lane"
   ]
  },
  {
   "cell_type": "code",
   "execution_count": null,
   "metadata": {
    "collapsed": false
   },
   "outputs": [],
   "source": [
    "# right edge of white lane\n",
    "p1 = np.array([0.4, 0.257])\n",
    "p2 = np.array([0.3, 0.257])\n",
    "seg_color = YELLOW\n"
   ]
  },
  {
   "cell_type": "markdown",
   "metadata": {},
   "source": [
    "#### compute d_i, phi_i, l_i"
   ]
  },
  {
   "cell_type": "code",
   "execution_count": null,
   "metadata": {
    "collapsed": false
   },
   "outputs": [],
   "source": [
    "\n",
    "\n",
    "t_hat = (p2-p1)/np.linalg.norm(p2-p1)\n",
    "n_hat = np.array([-t_hat[1],t_hat[0]])\n",
    "d1 = np.inner(n_hat,p1)\n",
    "d2 = np.inner(n_hat,p2)\n",
    "l1 = np.inner(t_hat,p1)\n",
    "l2 = np.inner(t_hat,p2)\n",
    "\n",
    "print (d1, d2, l1, l2)\n",
    "\n",
    "if (l1 < 0):\n",
    "    l1 = -l1;\n",
    "if (l2 < 0):\n",
    "    l2 = -l2;\n",
    "l_i = (l1+l2)/2\n",
    "d_i = (d1+d2)/2\n",
    "phi_i = np.arcsin(t_hat[1])\n",
    "if seg_color == WHITE: # right lane is white\n",
    "    if(p1[0] > p2[0]): # right edge of white lane\n",
    "        d_i = d_i - linewidth_white\n",
    "        print ('right edge of white lane')\n",
    "    else: # left edge of white lane\n",
    "        d_i = - d_i\n",
    "        phi_i = -phi_i\n",
    "        print ('left edge of white lane')\n",
    "    d_i = d_i - lanewidth/2\n",
    "\n",
    "elif seg_color == YELLOW: # left lane is yellow\n",
    "    if (p2[0] > p1[0]): # left edge of yellow lane\n",
    "        d_i = d_i - linewidth_yellow\n",
    "        phi_i = -phi_i\n",
    "        print ('right edge of yellow lane')\n",
    "    else: # right edge of white lane\n",
    "        d_i = -d_i\n",
    "        print ('right edge of yellow lane')\n",
    "    d_i =  lanewidth/2 - d_i\n",
    "\n",
    "    \n",
    "print (d_i, phi_i, l_i) "
   ]
  },
  {
   "cell_type": "markdown",
   "metadata": {},
   "source": [
    "### Measurement Likelihood"
   ]
  },
  {
   "cell_type": "code",
   "execution_count": null,
   "metadata": {
    "collapsed": false
   },
   "outputs": [],
   "source": [
    "# initialize measurement likelihood\n",
    "\n",
    "d_min = -0.7\n",
    "d_max = 0.5\n",
    "delta_d = 0.02\n",
    "phi_min = -pi/2\n",
    "phi_max = pi/2\n",
    "delta_phi = 0.02\n",
    "d, phi = np.mgrid[d_min:d_max:delta_d, phi_min:phi_max:delta_phi]\n",
    "\n",
    "measurement_likelihood = np.zeros(d.shape)\n",
    "\n",
    "fig = plt.figure()\n",
    "ax = fig.add_subplot(111)\n",
    "cax = ax.matshow(measurement_likelihood, interpolation='nearest')\n",
    "fig.colorbar(cax)\n",
    "plt.ylabel('phi')\n",
    "plt.xlabel('d')\n",
    "\n",
    "plt.show()\n",
    "\n"
   ]
  },
  {
   "cell_type": "code",
   "execution_count": null,
   "metadata": {
    "collapsed": false
   },
   "outputs": [],
   "source": [
    "i = floor((d_i - d_min)/delta_d)\n",
    "j = floor((phi_i - phi_min)/delta_phi)\n",
    "measurement_likelihood[i,j] = measurement_likelihood[i,j] +  1/(l_i)\n",
    "\n",
    "print (i, j)\n",
    "\n",
    "fig = plt.figure()\n",
    "ax = fig.add_subplot(111)\n",
    "cax = ax.matshow(measurement_likelihood, interpolation='nearest')\n",
    "fig.colorbar(cax)\n",
    "plt.ylabel('phi')\n",
    "plt.xlabel('d')\n",
    "\n",
    "plt.show()"
   ]
  },
  {
   "cell_type": "markdown",
   "metadata": {
    "collapsed": true
   },
   "source": [
    "## Process Model"
   ]
  },
  {
   "cell_type": "markdown",
   "metadata": {},
   "source": [
    "### 1. Initialize Belief"
   ]
  },
  {
   "cell_type": "code",
   "execution_count": null,
   "metadata": {
    "collapsed": false
   },
   "outputs": [],
   "source": [
    "print d.shape\n",
    "beliefRV = np.empty(d.shape)\n",
    "pos = np.empty(d.shape + (2,))\n",
    "pos[:,:,0]= d\n",
    "pos[:,:,1]= phi\n",
    "\n",
    "print pos.shape"
   ]
  },
  {
   "cell_type": "code",
   "execution_count": null,
   "metadata": {
    "collapsed": false
   },
   "outputs": [],
   "source": [
    "mean_0 = [0, 0]\n",
    "cov_0 = [[0.1, 0], [0, 0.01]]\n",
    "\n",
    "RV = multivariate_normal(mean_0, cov_0)\n",
    "beliefRV=RV.pdf(pos)\n",
    "\n",
    "plt.ylabel('phi')\n",
    "plt.xlabel('d')\n",
    "plt.contourf(d, phi, beliefRV)"
   ]
  },
  {
   "cell_type": "markdown",
   "metadata": {},
   "source": [
    "### 2.1 Update Belief"
   ]
  },
  {
   "cell_type": "code",
   "execution_count": null,
   "metadata": {
    "collapsed": false
   },
   "outputs": [],
   "source": [
    "beliefRV=np.multiply(beliefRV+1,measurement_likelihood+1)-1\n",
    "beliefRV=beliefRV/np.sum(beliefRV)\n",
    "\n",
    "plt.ylabel('phi')\n",
    "plt.xlabel('d')\n",
    "plt.contourf(d, phi, beliefRV)"
   ]
  },
  {
   "cell_type": "code",
   "execution_count": null,
   "metadata": {
    "collapsed": false
   },
   "outputs": [],
   "source": [
    "maxids = np.unravel_index(beliefRV.argmax(),beliefRV.shape)\n",
    "print maxids\n",
    "lanePose_d = d_min + maxids[0] * delta_d\n",
    "lanePose_phi = phi_min + maxids[1] * delta_phi\n",
    "\n",
    "print lanePose_d\n",
    "print lanePose_phi"
   ]
  }
 ],
 "metadata": {
  "anaconda-cloud": {},
  "kernelspec": {
   "display_name": "Python [default]",
   "language": "python",
   "name": "python2"
  },
  "language_info": {
   "codemirror_mode": {
    "name": "ipython",
    "version": 2
   },
   "file_extension": ".py",
   "mimetype": "text/x-python",
   "name": "python",
   "nbconvert_exporter": "python",
   "pygments_lexer": "ipython2",
   "version": "2.7.12"
  }
 },
 "nbformat": 4,
 "nbformat_minor": 1
}
