{
 "cells": [
  {
   "cell_type": "markdown",
   "metadata": {},
   "source": [
    "# Duckietown NCTU - Tutorial 4: Mocap\n",
    "\n",
    "By Jack Lin\n",
    "\n",
    "Before you run this jupyter notebook on your duckietop, make sure you \n",
    "\n",
    "```sh\n",
    "duckietop $ source ~/duckietown/environment.sh\n",
    "duckietop $ source ~/duckietown/set_ros_master.sh mocap03\n",
    "```\n",
    "\n",
    "On duckiebot, You should also start a the launch\n",
    "```sh\n",
    "duckiebot $ roslaunch duckietown_jack mocap_find_point.launch veh:=duckiebot\n",
    "```\n",
    "\n",
    "If you duckiebot is almost full, you could clean the cache files (~500MB).\n",
    "\n",
    "```sh\n",
    "duckiebot $ sudo apt-get clean\n",
    "```"
   ]
  },
  {
   "cell_type": "markdown",
   "metadata": {},
   "source": [
    "## Import Packages"
   ]
  },
  {
   "cell_type": "code",
   "execution_count": 1,
   "metadata": {
    "collapsed": false
   },
   "outputs": [],
   "source": [
    "import numpy as np\n",
    "import scipy as sp\n",
    "import cv2\n",
    "import time\n",
    "\n",
    "from matplotlib import pyplot as plt\n",
    "%matplotlib inline\n",
    "# set display defaults\n",
    "plt.rcParams['figure.figsize'] = (10, 10)        # large images\n",
    "plt.rcParams['image.interpolation'] = 'nearest'  # don't interpolate: show square pixels"
   ]
  },
  {
   "cell_type": "markdown",
   "metadata": {},
   "source": [
    "## ROS Setup"
   ]
  },
  {
   "cell_type": "code",
   "execution_count": 2,
   "metadata": {
    "collapsed": false
   },
   "outputs": [],
   "source": [
    "import sys\n",
    "# rospy\n",
    "sys.path.insert(0, '/opt/ros/indigo/lib/python2.7/dist-packages')\n",
    "# rospkg\n",
    "sys.path.insert(0, '/usr/lib/python2.7/dist-packages/')\n",
    "\n",
    "# duckietown_msgs\n",
    "duckietown_root = '../../'  # this file should be run from {duckietown_root}/turorials/python (otherwise change this line)\n",
    "sys.path.insert(0, duckietown_root + 'catkin_ws/devel/lib/python2.7/dist-packages')\n",
    "\n",
    "import rospy\n",
    "from duckietown_msgs.msg import  Twist2DStamped, BoolStamped\n",
    "from geometry_msgs.msg import Point\n",
    "\n"
   ]
  },
  {
   "cell_type": "markdown",
   "metadata": {},
   "source": [
    "### initial a rosnode"
   ]
  },
  {
   "cell_type": "code",
   "execution_count": 3,
   "metadata": {
    "collapsed": false
   },
   "outputs": [],
   "source": [
    "rospy.init_node(\"mocap_jupyter_node\",anonymous=False)\n",
    "pub_car_cmd = rospy.Publisher(\"/jack/mocap_jupyter_node/target_position\",Point,queue_size=1)"
   ]
  },
  {
   "cell_type": "markdown",
   "metadata": {},
   "source": [
    "### Send the target pose to duckiebot"
   ]
  },
  {
   "cell_type": "code",
   "execution_count": 4,
   "metadata": {
    "collapsed": false
   },
   "outputs": [],
   "source": [
    "target_position = Point()\n",
    "target_position.x = 0.5    # target x coordinate\n",
    "target_position.y = 0.95   # target y coordinate\n",
    "\n",
    "\n",
    "pub_car_cmd.publish(target_position)"
   ]
  }
 ],
 "metadata": {
  "anaconda-cloud": {},
  "kernelspec": {
   "display_name": "Python [default]",
   "language": "python",
   "name": "python2"
  },
  "language_info": {
   "codemirror_mode": {
    "name": "ipython",
    "version": 2
   },
   "file_extension": ".py",
   "mimetype": "text/x-python",
   "name": "python",
   "nbconvert_exporter": "python",
   "pygments_lexer": "ipython2",
   "version": "2.7.12"
  }
 },
 "nbformat": 4,
 "nbformat_minor": 1
}
