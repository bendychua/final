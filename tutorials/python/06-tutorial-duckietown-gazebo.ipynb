{
 "cells": [
  {
   "cell_type": "markdown",
   "metadata": {},
   "source": [
    "# Duckietown NCTU - Tutorial 6: Drive mybot in Gazebo\n",
    "\n",
    "By Brian Chuang, Jack Lin, and Nick Wang"
   ]
  },
  {
   "cell_type": "markdown",
   "metadata": {},
   "source": [
    "## Import Packages"
   ]
  },
  {
   "cell_type": "code",
   "execution_count": 10,
   "metadata": {
    "collapsed": false
   },
   "outputs": [],
   "source": [
    "import numpy as np\n",
    "import scipy as sp\n",
    "import cv2\n",
    "import time\n",
    "\n",
    "from matplotlib import pyplot as plt\n",
    "%matplotlib inline\n",
    "# set display defaults\n",
    "plt.rcParams['figure.figsize'] = (10, 10)        # large images\n",
    "plt.rcParams['image.interpolation'] = 'nearest'  # don't interpolate: show square pixels"
   ]
  },
  {
   "cell_type": "markdown",
   "metadata": {},
   "source": [
    "## ROS Setup"
   ]
  },
  {
   "cell_type": "code",
   "execution_count": 11,
   "metadata": {
    "collapsed": false
   },
   "outputs": [],
   "source": [
    "import sys\n",
    "# rospy\n",
    "sys.path.insert(0, '/opt/ros/indigo/lib/python2.7/dist-packages')\n",
    "# rospkg\n",
    "sys.path.insert(0, '/usr/lib/python2.7/dist-packages/')\n",
    "\n",
    "# duckietown_msgs\n",
    "duckietown_root = '../../'  # this file should be run from {duckietown_root}/turorials/python (otherwise change this line)\n",
    "sys.path.insert(0, duckietown_root + 'catkin_ws/devel/lib/python2.7/dist-packages')\n",
    "\n",
    "import rospy\n",
    "from duckietown_msgs.msg import  Twist2DStamped\n",
    "from geometry_msgs.msg import Twist # for cmd_vel\n"
   ]
  },
  {
   "cell_type": "markdown",
   "metadata": {},
   "source": [
    "### you need to run ./run_gazebo for mybot"
   ]
  },
  {
   "cell_type": "markdown",
   "metadata": {},
   "source": [
    "### initial a rosnode to send cmd_vel, similar to car_cmd in Duckietown"
   ]
  },
  {
   "cell_type": "code",
   "execution_count": 12,
   "metadata": {
    "collapsed": false
   },
   "outputs": [],
   "source": [
    "rospy.init_node(\"cmd_vel_jupyter\",anonymous=False)\n",
    "pub_car_cmd = rospy.Publisher(\"/cmd_vel\",Twist,queue_size=1)\n"
   ]
  },
  {
   "cell_type": "markdown",
   "metadata": {},
   "source": [
    "### define function for publishing car command "
   ]
  },
  {
   "cell_type": "code",
   "execution_count": 13,
   "metadata": {
    "collapsed": true
   },
   "outputs": [],
   "source": [
    "# v: linear x, omega: angular z\n",
    "def cmd_vel_command(v, omega, duration):\n",
    "# Send stop command\n",
    "    cmd_vel_msg = Twist()\n",
    "    cmd_vel_msg.linear.x = v \n",
    "    cmd_vel_msg.angular.z = omega \n",
    "    pub_car_cmd.publish(cmd_vel_msg)\n",
    "    rospy.sleep(duration)\n",
    "    #rospy.loginfo(\"Shutdown\")\n",
    "    cmd_vel_msg.linear.x = 0\n",
    "    cmd_vel_msg.angular.z = 0 \n",
    "    pub_car_cmd.publish(cmd_vel_msg)   "
   ]
  },
  {
   "cell_type": "markdown",
   "metadata": {},
   "source": [
    "## EXERCISE: Forward (F), Turn Left (L), or Turn Right (R)\n",
    "\n",
    "Send commands and calibrate your duckiebot"
   ]
  },
  {
   "cell_type": "markdown",
   "metadata": {},
   "source": [
    "### Ex1: Forward 0.5 Tile Width"
   ]
  },
  {
   "cell_type": "code",
   "execution_count": 16,
   "metadata": {
    "collapsed": false
   },
   "outputs": [],
   "source": [
    "cmd_vel_command(0.5, 0, 0.75)"
   ]
  },
  {
   "cell_type": "markdown",
   "metadata": {},
   "source": [
    "### EX2: Turn 45 or 90 Degrees"
   ]
  },
  {
   "cell_type": "code",
   "execution_count": 18,
   "metadata": {
    "collapsed": false
   },
   "outputs": [],
   "source": [
    "cmd_vel_command(0.2, 4, 1.005)"
   ]
  },
  {
   "cell_type": "markdown",
   "metadata": {},
   "source": [
    "### EX3: Concat the commands"
   ]
  },
  {
   "cell_type": "code",
   "execution_count": 19,
   "metadata": {
    "collapsed": true
   },
   "outputs": [],
   "source": [
    "class switch(object):\n",
    "    def __init__(self, value):\n",
    "        self.value = value\n",
    "        self.fall = False\n",
    " \n",
    "    def __iter__(self):\n",
    "        \"\"\"Return the match method once, then stop\"\"\"\n",
    "        yield self.match\n",
    "        raise StopIteration\n",
    "     \n",
    "    def match(self, *args):\n",
    "        \"\"\"Indicate whether or not to enter a case suite\"\"\"\n",
    "        if self.fall or not args:\n",
    "            return True\n",
    "        elif self.value in args: # changed for v1.5, see below\n",
    "            self.fall = True\n",
    "            return True\n",
    "        else:\n",
    "            return False"
   ]
  },
  {
   "cell_type": "code",
   "execution_count": 20,
   "metadata": {
    "collapsed": false
   },
   "outputs": [],
   "source": [
    "def concat_commands(concat):\n",
    "    for i in range(len(concat)):\n",
    "        primitives = concat[i]\n",
    "        for case in switch(primitives):\n",
    "            if case('S'):\n",
    "                cmd_vel_command(0.5, 0, 0.25)\n",
    "                break\n",
    "            if case('L'):\n",
    "                cmd_vel_command(0.2, 4, 0.82)\n",
    "                break\n",
    "            if case('R'):\n",
    "                cmd_vel_command(0.2, -4, 0.78)\n",
    "                break\n",
    "            if case('B'):\n",
    "                cmd_vel_command(-0.4, 0, 0.5)\n",
    "                break"
   ]
  },
  {
   "cell_type": "markdown",
   "metadata": {},
   "source": [
    "### example: overtaking"
   ]
  },
  {
   "cell_type": "code",
   "execution_count": 21,
   "metadata": {
    "collapsed": true
   },
   "outputs": [],
   "source": [
    "overtaking = \"LSRSSSSRSLSS\"\n",
    "#overtaking = \"LSRSSS\"\n",
    "concat_commands(overtaking)"
   ]
  },
  {
   "cell_type": "markdown",
   "metadata": {},
   "source": [
    "### example: parking "
   ]
  },
  {
   "cell_type": "code",
   "execution_count": 22,
   "metadata": {
    "collapsed": true
   },
   "outputs": [],
   "source": [
    "parking = \"BBLBBB\"\n",
    "concat_commands(parking)"
   ]
  },
  {
   "cell_type": "code",
   "execution_count": null,
   "metadata": {
    "collapsed": true
   },
   "outputs": [],
   "source": []
  }
 ],
 "metadata": {
  "anaconda-cloud": {},
  "kernelspec": {
   "display_name": "Python 2",
   "language": "python",
   "name": "python2"
  },
  "language_info": {
   "codemirror_mode": {
    "name": "ipython",
    "version": 2
   },
   "file_extension": ".py",
   "mimetype": "text/x-python",
   "name": "python",
   "nbconvert_exporter": "python",
   "pygments_lexer": "ipython2",
   "version": "2.7.12"
  }
 },
 "nbformat": 4,
 "nbformat_minor": 1
}
